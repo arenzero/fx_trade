{
 "cells": [
  {
   "cell_type": "markdown",
   "id": "d7cce569",
   "metadata": {},
   "source": [
    "# バックテスト用\n",
    "\n",
    "input:期間、所持金、使用するルール<br>\n",
    "output:期間中の所持金の増減具合、図とシャープレシオの値<br>"
   ]
  },
  {
   "cell_type": "code",
   "execution_count": 9,
   "id": "069fd8b4",
   "metadata": {},
   "outputs": [],
   "source": [
    "import sys\n",
    "sys.path.append('../')\n",
    "\n",
    "from scraping.scrape_fx_data import scrape"
   ]
  },
  {
   "cell_type": "code",
   "execution_count": 10,
   "id": "344af7d3",
   "metadata": {},
   "outputs": [
    {
     "name": "stdout",
     "output_type": "stream",
     "text": [
      "[*********************100%***********************]  1 of 1 completed\n",
      "[*********************100%***********************]  1 of 1 completed\n"
     ]
    }
   ],
   "source": [
    "scrape()"
   ]
  }
 ],
 "metadata": {
  "kernelspec": {
   "display_name": "Python 3",
   "language": "python",
   "name": "python3"
  },
  "language_info": {
   "codemirror_mode": {
    "name": "ipython",
    "version": 3
   },
   "file_extension": ".py",
   "mimetype": "text/x-python",
   "name": "python",
   "nbconvert_exporter": "python",
   "pygments_lexer": "ipython3",
   "version": "3.7.9"
  }
 },
 "nbformat": 4,
 "nbformat_minor": 5
}
