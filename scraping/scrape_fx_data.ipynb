{
 "cells": [
  {
   "cell_type": "code",
   "execution_count": 12,
   "id": "2cc06980",
   "metadata": {},
   "outputs": [],
   "source": [
    "import pandas_datareader.data as pdr\n",
    "import yfinance as yfin\n",
    "yfin.pdr_override()"
   ]
  },
  {
   "cell_type": "code",
   "execution_count": 17,
   "id": "d57c86b9",
   "metadata": {
    "scrolled": true
   },
   "outputs": [
    {
     "name": "stdout",
     "output_type": "stream",
     "text": [
      "[*********************100%***********************]  1 of 1 completed\n",
      "[*********************100%***********************]  1 of 1 completed\n"
     ]
    }
   ],
   "source": [
    "jpy_usd = pdr.get_data_yahoo('JPY=X',start ='2021-06-07', end='2021-09-13')\n",
    "eur_usd = pdr.get_data_yahoo('EURUSD=X',start ='2021-06-07', end='2021-09-13')"
   ]
  },
  {
   "cell_type": "code",
   "execution_count": 21,
   "id": "a78e79c1",
   "metadata": {},
   "outputs": [],
   "source": [
    "jpy_eur = jpy_usd/eur_usd"
   ]
  },
  {
   "cell_type": "code",
   "execution_count": 22,
   "id": "205573e1",
   "metadata": {},
   "outputs": [],
   "source": [
    "jpy_usd.to_csv('../temp_data/test.csv')"
   ]
  }
 ],
 "metadata": {
  "kernelspec": {
   "display_name": "Python 3",
   "language": "python",
   "name": "python3"
  },
  "language_info": {
   "codemirror_mode": {
    "name": "ipython",
    "version": 3
   },
   "file_extension": ".py",
   "mimetype": "text/x-python",
   "name": "python",
   "nbconvert_exporter": "python",
   "pygments_lexer": "ipython3",
   "version": "3.7.9"
  }
 },
 "nbformat": 4,
 "nbformat_minor": 5
}
